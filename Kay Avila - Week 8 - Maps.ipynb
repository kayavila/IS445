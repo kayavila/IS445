{
 "cells": [
  {
   "cell_type": "markdown",
   "id": "f864484b",
   "metadata": {},
   "source": [
    "#### Kay Avila<br />IS 445, Week 8 - Maps<br />March 20, 2022\n",
    "Resources used beyond the standard library documentation:\n",
    "* https://matplotlib.org/3.5.1/tutorials/intermediate/arranging_axes.html#high-level-methods-for-making-grids"
   ]
  },
  {
   "cell_type": "code",
   "execution_count": 1,
   "id": "3df335b7",
   "metadata": {},
   "outputs": [],
   "source": [
    "import os\n",
    "import json\n",
    "import bqplot\n",
    "import requests\n",
    "import geopandas\n",
    "import ipywidgets\n",
    "import pandas as pd\n",
    "import contextily as ctx\n",
    "import matplotlib.pyplot as plt"
   ]
  },
  {
   "cell_type": "markdown",
   "id": "d76a281a",
   "metadata": {},
   "source": [
    "### Plot the trees owned by the city of Champaign"
   ]
  },
  {
   "cell_type": "code",
   "execution_count": 2,
   "id": "85123a72",
   "metadata": {},
   "outputs": [],
   "source": [
    "# Read the Champaign city council data into memory\n",
    "gdf_councils = geopandas.read_file('https://opendata.arcgis.com/datasets/1f75636917604299861fb408bbf79378_1.geojson')\n",
    "\n",
    "# Convert it to a coordinate reference system - 3857 is Spheric Mercator\n",
    "gdf_councils = gdf_councils.to_crs(epsg=3857)"
   ]
  },
  {
   "cell_type": "code",
   "execution_count": 3,
   "id": "23d96740",
   "metadata": {},
   "outputs": [],
   "source": [
    "# Download the Champaign tree data, if it doesn't exist in the directory, since this takes a while\n",
    "tree_file = 'tree_data.geojson'\n",
    "tree_file_url = 'https://opendata.arcgis.com/datasets/979bbeefffea408e8f1cb7a397196c64_22.geojson'\n",
    "\n",
    "if os.path.exists(tree_file) and os.stat(tree_file).st_size > 0:\n",
    "    pass\n",
    "else:\n",
    "    data = requests.get(tree_file_url).json()\n",
    "    with open(tree_file, 'w') as output_file:\n",
    "        json.dump(data, output_file)\n",
    "    \n",
    "gdf_trees = geopandas.read_file(tree_file)\n",
    "\n",
    "# Keep only the columns we care about, to free up memory and speed processing\n",
    "useful_cols = ['TREETYPE', 'Special_Status', 'FAMILY', 'INSPECT_DT', 'SPP', 'COMMON', 'geometry']\n",
    "for c in gdf_trees.columns:\n",
    "    if c not in useful_cols:\n",
    "        gdf_trees = gdf_trees.drop(c, axis=1)\n",
    "        \n",
    "# Keep only the columns with TREETYPE=Tree (we don't want vacant sites, retired, etc.)\n",
    "gdf_trees = gdf_trees[gdf_trees['TREETYPE'] == 'Tree']\n",
    "gdf_trees = gdf_trees.drop('TREETYPE', axis=1)"
   ]
  },
  {
   "cell_type": "code",
   "execution_count": 4,
   "id": "39e66d6b",
   "metadata": {},
   "outputs": [],
   "source": [
    "# Filter down to just oaks, maples, hackberries and ginkgo\n",
    "# Maples and oaks because they're common and have lots of species, and \n",
    "#   hackberries, gingko, sweetgum, and redbud because I like them\n",
    "gdf_trees = gdf_trees.query('COMMON.str.contains(\"maple|oak|hackberry|gink|sweetgum|redbud\")', engine=\"python\")\n",
    "\n",
    "# Convert it to a coordinate reference system\n",
    "gdf_trees = gdf_trees.to_crs(epsg=3857)\n",
    "\n",
    "# Update the status column\n",
    "gdf_trees['Special_Status'] = gdf_trees['Special_Status'].fillna('No status')"
   ]
  },
  {
   "cell_type": "code",
   "execution_count": 5,
   "id": "fedb1589",
   "metadata": {},
   "outputs": [
    {
     "data": {
      "application/vnd.jupyter.widget-view+json": {
       "model_id": "af59c764638a47fb8d32b9f0ab6e1cd7",
       "version_major": 2,
       "version_minor": 0
      },
      "text/plain": [
       "interactive(children=(Dropdown(description='tree_type', options=('maple', 'oak', 'other'), value='maple'), Out…"
      ]
     },
     "metadata": {},
     "output_type": "display_data"
    }
   ],
   "source": [
    "@ipywidgets.interact(tree_type=['maple', 'oak', 'other'])\n",
    "def my_geopandas_plot(tree_type):\n",
    "\n",
    "    if tree_type == 'maple' or tree_type == 'oak':\n",
    "        gdf_trees_subset = gdf_trees.query('COMMON.str.contains(\"{}\")'.format(tree_type), engine=\"python\")\n",
    "    else:\n",
    "        gdf_trees_subset = gdf_trees.query('COMMON.str.contains(\"hackberry|gink|sweetgum|redbud\")', engine=\"python\")\n",
    "\n",
    "\n",
    "    # Create the grid of plots\n",
    "    gs_kw = dict(width_ratios=[4, 2], height_ratios=[1, 1])\n",
    "    fig, axes = plt.subplot_mosaic([['map', 'status'],\n",
    "                                    ['map', 'inspection']],\n",
    "                                   gridspec_kw=gs_kw,\n",
    "                                   figsize=(20, 14), constrained_layout=False)\n",
    "\n",
    "    # Create the map\n",
    "    gdf_councils.plot(ax=axes['map'], alpha=0.4, edgecolor='k')\n",
    "    ctx.add_basemap(ax=axes['map'])\n",
    "    gdf_trees_subset.plot(ax=axes['map'], column='COMMON', cmap='rainbow', legend=True, categorical=True,)\n",
    "\n",
    "    # Create the status types\n",
    "    status_df = gdf_trees_subset['Special_Status'].value_counts().to_frame()\n",
    "    labels = status_df.index.values.tolist()\n",
    "    values = status_df['Special_Status'].values.tolist()\n",
    "\n",
    "    axes['status'].pie(values, labels=labels)\n",
    "    axes['status'].set_title('Tree Status')\n",
    "\n",
    "    # Create the inspections\n",
    "    inspections_df = gdf_trees_subset['INSPECT_DT'].value_counts().to_frame()\n",
    "    inspections_df.index = inspections_df.index.set_names(['Date'])\n",
    "    inspections_df = inspections_df.reset_index()\n",
    "    inspections_df['Date'] = pd.to_datetime(inspections_df['Date'])\n",
    "\n",
    "    axes['inspection'].plot_date(inspections_df['Date'], inspections_df['INSPECT_DT'])\n",
    "    axes['inspection'].set_title('Inspection Dates')\n",
    "\n",
    "    plt.show()"
   ]
  },
  {
   "cell_type": "markdown",
   "id": "798b5878",
   "metadata": {},
   "source": [
    "### Writeup"
   ]
  },
  {
   "cell_type": "markdown",
   "id": "3b3e18e3",
   "metadata": {},
   "source": [
    "The tree data for Champaign is quite interesting to interact with.  If I were going to extend the project, I would like to figure out how to turn the trees on and off by district, and also be able to do some data analysis based on whether the tree points were within the district polygons.  That would have taken a lot more familiarity with the map plotting, though.\n",
    "\n",
    "I tried to put the matplot figure into a ipywidgets box and then realized that I had only done that with bqplot, not maplot.  (Maybe we did it in class, but I was running out of time to double-check.)  I tried using an Output widget, as suggested by https://kapernikov.com/ipywidgets-with-matplotlib/, but it was improperly creating new graphs each time the dropdown menu value changed.  For instance, it would graph for maples, and then if I selected oak, it would put more figures below for oak.  So I used matplotlib subplots instead."
   ]
  }
 ],
 "metadata": {
  "kernelspec": {
   "display_name": "Python 3 (ipykernel)",
   "language": "python",
   "name": "python3"
  },
  "language_info": {
   "codemirror_mode": {
    "name": "ipython",
    "version": 3
   },
   "file_extension": ".py",
   "mimetype": "text/x-python",
   "name": "python",
   "nbconvert_exporter": "python",
   "pygments_lexer": "ipython3",
   "version": "3.9.7"
  }
 },
 "nbformat": 4,
 "nbformat_minor": 5
}
